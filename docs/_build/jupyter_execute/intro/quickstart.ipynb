{
 "cells": [
  {
   "cell_type": "markdown",
   "id": "43ae63d5",
   "metadata": {},
   "source": [
    "# Quickstart\n",
    "\n",
    "## from function to GUI\n",
    "\n",
    "The core feature of `magicgui` is the [@magicgui](magicgui.magicgui) decorator, which, when used to\n",
    "decorate a function, will autogenerate a graphical user interface (GUI) by inspecting\n",
    "the function signature and adding an appropriate GUI widget for each argument.  Argument\n",
    "`types` are taken from [type hints](https://docs.python.org/3/library/typing.html) if\n",
    "provided, or inferred using the type of the  default value."
   ]
  },
  {
   "cell_type": "code",
   "execution_count": 1,
   "id": "4e6b88b3",
   "metadata": {},
   "outputs": [],
   "source": [
    "import math\n",
    "from enum import Enum\n",
    "from magicgui import magicgui\n",
    "\n",
    "# dropdown boxes are best made by creating an enum\n",
    "class Medium(Enum):\n",
    "    Glass = 1.520\n",
    "    Oil = 1.515\n",
    "    Water = 1.333\n",
    "    Air = 1.0003\n",
    "\n",
    "# decorate your function with the ``@magicgui`` decorator\n",
    "@magicgui(call_button=\"calculate\")\n",
    "def snells_law(aoi=30.0, n1=Medium.Glass, n2=Medium.Water, degrees=True):\n",
    "    aoi = math.radians(aoi) if degrees else aoi\n",
    "    try:\n",
    "        result = math.asin(n1.value * math.sin(aoi) / n2.value)\n",
    "        return math.degrees(result) if degrees else result\n",
    "    except ValueError:\n",
    "        # beyond the critical angle\n",
    "        return \"Total internal reflection!\""
   ]
  },
  {
   "cell_type": "markdown",
   "id": "46e26742",
   "metadata": {},
   "source": [
    "### et voilà\n",
    "\n",
    "The object returned by the `magicgui` decorator is an instance of {py:class}`~magicgui.widgets.FunctionGui`.  It can still be called like the original function, but it also knows how to present itself as a GUI:"
   ]
  },
  {
   "cell_type": "code",
   "execution_count": 2,
   "id": "36a06ec1",
   "metadata": {},
   "outputs": [
    {
     "data": {
      "image/png": "[encoded data removed]",
      "text/plain": [
       "<FunctionGui snells_law(aoi=30.0, n1=<Medium.Glass: 1.52>, n2=<Medium.Water: 1.333>, degrees=True)>"
      ]
     },
     "execution_count": 2,
     "metadata": {
      "filenames": {
       "image/png": "C:\\dev\\projects\\2P-Analysis1\\2P-Analysis\\docs\\_build\\jupyter_execute\\intro\\quickstart_3_0.png"
      }
     },
     "output_type": "execute_result"
    }
   ],
   "source": [
    "snells_law.show()"
   ]
  },
  {
   "cell_type": "markdown",
   "id": "3375f928",
   "metadata": {},
   "source": [
    "## two-way data binding\n",
    "\n",
    "The fun is just beginning! The modified `snells_law` object has attributes named\n",
    "after each of the parameters in the function.  As you make changes in your GUI,\n",
    "the attributes of the `snells_law` object will be kept in sync.  For instance,\n",
    "change the first dropdown menu from \"Glass\" to \"Oil\", and the corresponding\n",
    "parameter on `snells_law` will change:"
   ]
  },
  {
   "cell_type": "code",
   "execution_count": 3,
   "id": "ccbf71bf",
   "metadata": {},
   "outputs": [
    {
     "data": {
      "text/plain": [
       "<Medium.Glass: 1.52>"
      ]
     },
     "execution_count": 3,
     "metadata": {},
     "output_type": "execute_result"
    }
   ],
   "source": [
    "snells_law.n1.value"
   ]
  },
  {
   "cell_type": "markdown",
   "id": "c401f331",
   "metadata": {},
   "source": [
    "It goes both ways: set a parameter in the console and it will change in the GUI:"
   ]
  },
  {
   "cell_type": "code",
   "execution_count": 4,
   "id": "9e95a4a7",
   "metadata": {},
   "outputs": [
    {
     "data": {
      "image/png": "[encoded data removed]",
      "text/plain": [
       "<FunctionGui snells_law(aoi=47.0, n1=<Medium.Glass: 1.52>, n2=<Medium.Water: 1.333>, degrees=True)>"
      ]
     },
     "execution_count": 4,
     "metadata": {
      "filenames": {
       "image/png": "C:\\dev\\projects\\2P-Analysis1\\2P-Analysis\\docs\\_build\\jupyter_execute\\intro\\quickstart_7_0.png"
      }
     },
     "output_type": "execute_result"
    }
   ],
   "source": [
    "snells_law.aoi.value = 47\n",
    "snells_law.show()"
   ]
  },
  {
   "cell_type": "markdown",
   "id": "c12d5cbc",
   "metadata": {},
   "source": [
    "## calling the function\n",
    "\n",
    "We can call our function in a few ways:\n",
    "\n",
    "* Because we provided the `call_button=\"calculate\"` argument to the\n",
    "  [magicgui](magicgui.magicgui) decorator, a new button was created that will\n",
    "  execute the function with the current gui parameters when clicked.\n",
    "\n",
    "* We can also directly call the original function as usual. Now however, the\n",
    "  current values from the GUI will be used as the default values for any\n",
    "  arguments that are not explicitly provided to the function."
   ]
  },
  {
   "cell_type": "code",
   "execution_count": 5,
   "id": "619deb8c",
   "metadata": {},
   "outputs": [
    {
     "data": {
      "text/plain": [
       "56.506840116614576"
      ]
     },
     "execution_count": 5,
     "metadata": {},
     "output_type": "execute_result"
    }
   ],
   "source": [
    "snells_law()"
   ]
  },
  {
   "cell_type": "code",
   "execution_count": 6,
   "id": "c92e3623",
   "metadata": {},
   "outputs": [
    {
     "data": {
      "text/plain": [
       "13.714180703370369"
      ]
     },
     "execution_count": 6,
     "metadata": {},
     "output_type": "execute_result"
    }
   ],
   "source": [
    "snells_law.aoi.value = 12\n",
    "snells_law()"
   ]
  },
  {
   "cell_type": "markdown",
   "id": "7def92e6",
   "metadata": {},
   "source": [
    "  In a sense, your original function now has a \"living\" signature whose\n",
    "  defaults change as the user interacts with your GUI."
   ]
  },
  {
   "cell_type": "code",
   "execution_count": 7,
   "id": "e5c5744e",
   "metadata": {},
   "outputs": [
    {
     "data": {
      "text/plain": [
       "<MagicSignature (aoi=12.0, n1=<Medium.Glass: 1.52>, n2=<Medium.Water: 1.333>, degrees=True)>"
      ]
     },
     "execution_count": 7,
     "metadata": {},
     "output_type": "execute_result"
    }
   ],
   "source": [
    "import inspect\n",
    "\n",
    "inspect.signature(snells_law)\n",
    "# notice how the default `aoi` is now 12"
   ]
  },
  {
   "cell_type": "markdown",
   "id": "d5e4f79a",
   "metadata": {},
   "source": [
    "* You can still override positional or keyword arguments in the original function, just\n",
    "  as you would with a regular function.  (Note: calling the function with values that\n",
    "  differ from the GUI will *not* set the values in the GUI... It's just a one-time\n",
    "  call)."
   ]
  },
  {
   "cell_type": "code",
   "execution_count": 8,
   "id": "728d189d",
   "metadata": {},
   "outputs": [
    {
     "data": {
      "text/plain": [
       "'Total internal reflection!'"
      ]
     },
     "execution_count": 8,
     "metadata": {},
     "output_type": "execute_result"
    }
   ],
   "source": [
    "# in radians, overriding the value for the second medium (n2)\n",
    "snells_law(0.8, n2=Medium.Air, degrees=False)"
   ]
  },
  {
   "cell_type": "markdown",
   "id": "8ad8e898",
   "metadata": {},
   "source": [
    "## connecting events\n",
    "\n",
    "### function calls\n",
    "\n",
    "With a GUI, you are usually looking for something to happen as a result of\n",
    "calling the function.  The function will have a new `called` attribute that you\n",
    "can `connect` to an arbitrary callback function:"
   ]
  },
  {
   "cell_type": "code",
   "execution_count": 9,
   "id": "f16d38e4",
   "metadata": {},
   "outputs": [
    {
     "name": "stdout",
     "output_type": "stream",
     "text": [
      "Your function was called! The result is: 13.714180703370369\n"
     ]
    }
   ],
   "source": [
    "@snells_law.called.connect\n",
    "def my_callback(value: str):\n",
    "    # The callback receives an `Event` object that has the result\n",
    "    # of the function call in the `value` attribute\n",
    "    print(f\"Your function was called! The result is: {value}\")\n",
    "\n",
    "result = snells_law()"
   ]
  },
  {
   "cell_type": "markdown",
   "id": "cda3b116",
   "metadata": {},
   "source": [
    "Now when you call `snells_law()`, or click the `calculate` button\n",
    "in the gui, `my_callback` will be called with an event object that\n",
    "contains result of the calculation in its `value` attribute.\n",
    "\n",
    "### parameter changes\n",
    "\n",
    "You can also listen for changes on individual function parameters by connecting\n",
    "to the `<parameter>.changed` signal:"
   ]
  },
  {
   "cell_type": "code",
   "execution_count": 10,
   "id": "abf31a03",
   "metadata": {},
   "outputs": [
    {
     "name": "stdout",
     "output_type": "stream",
     "text": [
      "changed to Medium.Air\n"
     ]
    }
   ],
   "source": [
    "# whenever the current value for n1 changes, print it to the console:\n",
    "@snells_law.n1.changed.connect\n",
    "def _on_n1_changed(x: Medium):\n",
    "    print(f\"changed to {x}\")\n",
    "\n",
    "snells_law.n1.value = Medium.Air"
   ]
  },
  {
   "cell_type": "markdown",
   "id": "b4413e36",
   "metadata": {},
   "source": [
    "```{note}\n",
    "This signal will be emitted regardless of whether the parameter was changed in\n",
    "the GUI or via by [directly setting the paramaeter on the gui\n",
    "instance](#two-way-data-binding).\n",
    "```\n",
    "\n",
    "## @optional\n",
    "\n",
    "Remember, `@decorators` are just [syntactic\n",
    "sugar](https://en.wikipedia.org/wiki/Syntactic_sugar): you don't have to use [magicgui](magicgui.magicgui)\n",
    "to decorate your function declaration. You can also just [call it with your function as\n",
    "an argument](https://realpython.com/lessons/syntactic-sugar/):\n",
    "\n",
    "This:\n",
    "\n",
    "```python\n",
    "@magicgui(**kwargs)\n",
    "def function()\n",
    "    pass\n",
    "```\n",
    "\n",
    "is equivalent to this:\n",
    "\n",
    "```python\n",
    "def function()\n",
    "    pass\n",
    "\n",
    "function = magicgui(function, **kwargs)\n",
    "```\n",
    "\n",
    "## configuration and advanced usage\n",
    "\n",
    "The `@magicgui` decorator takes a number of options that allow you to configure the GUI\n",
    "and it's behavior.  See [configuration](usage/configuration) for more information."
   ]
  }
 ],
 "metadata": {
  "jupytext": {
   "cell_metadata_filter": "-all",
   "formats": "md:myst",
   "text_representation": {
    "extension": ".md",
    "format_name": "myst",
    "format_version": 0.12,
    "jupytext_version": "1.7.1"
   }
  },
  "kernelspec": {
   "display_name": "Python 3",
   "language": "python",
   "name": "python3"
  },
  "language_info": {
   "codemirror_mode": {
    "name": "ipython",
    "version": 3
   },
   "file_extension": ".py",
   "mimetype": "text/x-python",
   "name": "python",
   "nbconvert_exporter": "python",
   "pygments_lexer": "ipython3",
   "version": "3.10.8"
  },
  "source_map": [
   14,
   26,
   48,
   54,
   56,
   66,
   68,
   72,
   75,
   89,
   93,
   96,
   101,
   106,
   113,
   116,
   126,
   134,
   145,
   152
  ]
 },
 "nbformat": 4,
 "nbformat_minor": 5
}