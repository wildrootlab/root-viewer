{
 "cells": [
  {
   "cell_type": "markdown",
   "id": "d5b5b9d3",
   "metadata": {},
   "source": [
    "# Root Viewer 🌳\n",
    "\n",
    "[![License](https://img.shields.io/pypi/l/magicgui.svg)](https://github.com/pyapp-kit/magicgui/blob/main/LICENSE)\n",
    "[![Python Version](https://img.shields.io/pypi/pyversions/magicgui.svg)](https://python.org)\n",
    "\n",
    "An image analysis tool built in PyQt"
   ]
  }
 ],
 "metadata": {
  "jupytext": {
   "cell_metadata_filter": "-all",
   "formats": "md:myst",
   "text_representation": {
    "extension": ".md",
    "format_name": "myst",
    "format_version": 0.12,
    "jupytext_version": "1.7.1"
   }
  },
  "kernelspec": {
   "display_name": "Python 3",
   "language": "python",
   "name": "python3"
  },
  "language_info": {
   "codemirror_mode": {
    "name": "ipython",
    "version": 3
   },
   "file_extension": ".py",
   "mimetype": "text/x-python",
   "name": "python",
   "nbconvert_exporter": "python",
   "pygments_lexer": "ipython3",
   "version": "3.10.8"
  },
  "source_map": [
   14
  ]
 },
 "nbformat": 4,
 "nbformat_minor": 5
}